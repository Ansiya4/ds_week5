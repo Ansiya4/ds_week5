{
 "cells": [
  {
   "cell_type": "code",
   "execution_count": 1,
   "id": "ff39e5f4-3a86-4169-9515-684fb4456b87",
   "metadata": {},
   "outputs": [
    {
     "name": "stdout",
     "output_type": "stream",
     "text": [
      "Original Data:\n",
      "[45 67 32 78 12 90 54 23 56 89]\n",
      "\n",
      "Min-Max Normalized Data:\n",
      "[0.42307692 0.70512821 0.25641026 0.84615385 0.         1.\n",
      " 0.53846154 0.14102564 0.56410256 0.98717949]\n"
     ]
    }
   ],
   "source": [
    "import numpy as np\n",
    "\n",
    "# Create a NumPy array with 10 integer values\n",
    "data = np.array([45, 67, 32, 78, 12, 90, 54, 23, 56, 89])\n",
    "\n",
    "# Calculate the minimum and maximum values\n",
    "min_val = np.min(data)\n",
    "max_val = np.max(data)\n",
    "\n",
    "# Perform min-max normalization\n",
    "normalized_data = (data - min_val) / (max_val - min_val)\n",
    "\n",
    "# Display the original and normalized data\n",
    "print(\"Original Data:\")\n",
    "print(data)\n",
    "print(\"\\nMin-Max Normalized Data:\")\n",
    "print(normalized_data)"
   ]
  },
  {
   "cell_type": "code",
   "execution_count": 9,
   "id": "1745b9a2-b92a-453e-9662-a967bd97d5f0",
   "metadata": {},
   "outputs": [],
   "source": [
    "arr = np.random.randint(10,100,10)"
   ]
  },
  {
   "cell_type": "code",
   "execution_count": 10,
   "id": "4d2e0abe-9d4e-4ae3-8cc2-b334ab2d7556",
   "metadata": {},
   "outputs": [
    {
     "data": {
      "text/plain": [
       "array([71, 36, 81, 13, 44, 60, 18, 18, 68, 58])"
      ]
     },
     "execution_count": 10,
     "metadata": {},
     "output_type": "execute_result"
    }
   ],
   "source": [
    "arr"
   ]
  },
  {
   "cell_type": "code",
   "execution_count": 16,
   "id": "2c8d4b5c-1639-4f93-b1f6-53b385f8b9c9",
   "metadata": {},
   "outputs": [],
   "source": [
    "a=np.max(arr)"
   ]
  },
  {
   "cell_type": "code",
   "execution_count": 17,
   "id": "83c3cea1-8951-45ca-ac18-a827f169bcbf",
   "metadata": {},
   "outputs": [
    {
     "data": {
      "text/plain": [
       "81"
      ]
     },
     "execution_count": 17,
     "metadata": {},
     "output_type": "execute_result"
    }
   ],
   "source": [
    "a"
   ]
  },
  {
   "cell_type": "code",
   "execution_count": 18,
   "id": "11f68906-1e26-4ded-b04b-3c291d508154",
   "metadata": {},
   "outputs": [
    {
     "name": "stdout",
     "output_type": "stream",
     "text": [
      "Original Data: ['cat', 'dog', 'fish', 'dog', 'cat']\n",
      "Encoded Data: [0 1 2 1 0]\n"
     ]
    }
   ],
   "source": [
    "from sklearn.preprocessing import LabelEncoder\n",
    "\n",
    "# Sample categorical data\n",
    "categorical_data = ['cat', 'dog', 'fish', 'dog', 'cat']\n",
    "\n",
    "# Initialize the LabelEncoder\n",
    "label_encoder = LabelEncoder()\n",
    "\n",
    "# Fit and transform the data\n",
    "encoded_data = label_encoder.fit_transform(categorical_data)\n",
    "\n",
    "# Print the original data and the encoded data\n",
    "print(\"Original Data:\", categorical_data)\n",
    "print(\"Encoded Data:\", encoded_data)\n"
   ]
  },
  {
   "cell_type": "code",
   "execution_count": 19,
   "id": "d745ceff-7c9b-40e8-8bab-12e5f1fa0416",
   "metadata": {},
   "outputs": [
    {
     "name": "stdout",
     "output_type": "stream",
     "text": [
      "Original Data: ['cat', 'dog', 'fish', 'dog', 'cat']\n",
      "Label Mapping: {'cat': 0, 'dog': 1, 'fish': 2}\n",
      "Encoded Data: [0, 1, 2, 1, 0]\n"
     ]
    }
   ],
   "source": [
    "# Sample categorical data\n",
    "categorical_data = ['cat', 'dog', 'fish', 'dog', 'cat']\n",
    "\n",
    "# Create a dictionary to map labels to numerical values\n",
    "label_mapping = {}\n",
    "encoded_data = []\n",
    "\n",
    "# Iterate over the unique labels and assign numerical values\n",
    "for label in categorical_data:\n",
    "    if label not in label_mapping:\n",
    "        label_mapping[label] = len(label_mapping)\n",
    "    encoded_data.append(label_mapping[label])\n",
    "\n",
    "# Print the original data, label mapping, and encoded data\n",
    "print(\"Original Data:\", categorical_data)\n",
    "print(\"Label Mapping:\", label_mapping)\n",
    "print(\"Encoded Data:\", encoded_data)\n"
   ]
  },
  {
   "cell_type": "code",
   "execution_count": null,
   "id": "65fa9286-3fa5-49f1-a22c-f381e8587a5d",
   "metadata": {},
   "outputs": [],
   "source": []
  }
 ],
 "metadata": {
  "kernelspec": {
   "display_name": "Python 3 (ipykernel)",
   "language": "python",
   "name": "python3"
  },
  "language_info": {
   "codemirror_mode": {
    "name": "ipython",
    "version": 3
   },
   "file_extension": ".py",
   "mimetype": "text/x-python",
   "name": "python",
   "nbconvert_exporter": "python",
   "pygments_lexer": "ipython3",
   "version": "3.10.10"
  }
 },
 "nbformat": 4,
 "nbformat_minor": 5
}
